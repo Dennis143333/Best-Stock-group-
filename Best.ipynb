{
 "cells": [
  {
   "cell_type": "code",
   "execution_count": 5,
   "id": "df579d59",
   "metadata": {},
   "outputs": [
    {
     "ename": "IndentationError",
     "evalue": "expected an indented block (3867734300.py, line 23)",
     "output_type": "error",
     "traceback": [
      "\u001b[0;36m  Cell \u001b[0;32mIn[5], line 23\u001b[0;36m\u001b[0m\n\u001b[0;31m    info = ticker.info\u001b[0m\n\u001b[0m    ^\u001b[0m\n\u001b[0;31mIndentationError\u001b[0m\u001b[0;31m:\u001b[0m expected an indented block\n"
     ]
    }
   ],
   "source": [
    "import pandas as pd\n",
    "import numpy as np\n",
    "import yfinance as yf\n",
    "import datetime as dt\n",
    "import seaborn as sns\n",
    "import matplotlib.pyplot as plt\n",
    "from scipy.optimize import minimize\n",
    "import os\n",
    "\n",
    "tickers = pd.read_excel(os.path.join(os.getcwd(),'Tickers.xlsx'))['Ticker Symbol']\n",
    "# Define conditions for selecting stocks\n",
    "current_ratio = 1.5\n",
    "interest_coverage = 3\n",
    "eps = 2\n",
    "sectors = ['Consumer Staples', 'Healthcare', 'Utilities']\n",
    "\n",
    "# Retrieve list of all publicly traded companies\n",
    "all_tickers = yf.Tickers('')\n",
    "\n",
    "# Filter stocks based on conditions\n",
    "selected_tickers = []\n",
    "for ticker in all_tickers.tickers:\n",
    "    info = ticker.info\n",
    "    if info['sector'] in sectors and \\\n",
    "    info['currentRatio'] > current_ratio and \\\n",
    "    info['interestCoverage'] > interest_coverage and \\\n",
    "    info['eps'] > eps:\n",
    "    selected_tickers.append(info['symbol'])\n",
    "\n",
    "# Get financial data for selected tickers\n",
    "start_date = dt.datetime.now() - dt.timedelta(days=365*5)\n",
    "end_date = dt.datetime.now()\n",
    "data = yf.download(selected_tickers, start=start_date, end=end_date)\n",
    "\n",
    "# Calculate expected returns of each stock using CAPM\n",
    "risk_free_rate = 0.02\n",
    "market_risk_premium = 0.08\n",
    "beta = data['Adj Close'].pct_change().corr(data['Adj Close']['SPY'].pct_change())\n",
    "expected_returns = risk_free_rate + beta * market_risk_premium\n",
    "\n",
    "# Calculate expected return and volatility of portfolio\n",
    "weights = np.array([1/len(selected_tickers)] * len(selected_tickers))\n",
    "expected_return = np.sum(expected_returns * weights)\n",
    "portfolio_variance = np.dot(weights.T, np.dot(data['Adj Close'].pct_change().cov(), weights))\n",
    "portfolio_volatility = np.sqrt(portfolio_variance) * np.sqrt(252)\n",
    "\n",
    "# Optimize portfolio to minimize volatility while maintaining expected return\n",
    "def portfolio_volatility(weights):\n",
    "return np.sqrt(np.dot(weights.T, np.dot(data['Adj Close'].pct_change().cov(), weights))) * np.sqrt(252)\n",
    "\n",
    "def portfolio_return(weights):\n",
    "return np.sum(expected_returns * weights)\n",
    "\n",
    "def constraint(weights):\n",
    "return portfolio_return(weights) - expected_return\n",
    "\n",
    "bounds = [(0, 1)] * len(selected_tickers)\n",
    "constraints = ({'type': 'eq', 'fun': constraint})\n",
    "optimized = minimize(portfolio_volatility, weights, method='SLSQP', bounds=bounds, constraints=constraints)\n",
    "\n",
    "# Print optimized portfolio\n",
    "print(\"Optimized Portfolio:\")\n",
    "for i in range(len(selected_tickers)):\n",
    "print(selected_tickers[i], optimized.x[i])\n",
    "\n",
    "# Visualize portfolio\n",
    "fig, ax = plt.subplots()\n",
    "ax.scatter(np.sqrt(np.diag(data['Adj Close'].pct_change().cov()))*np.sqrt(252), expected_returns, c='b', s=50)\n",
    "ax.scatter(portfolio_volatility, expected_return, c='r', s=200)\n",
    "for i in range(len(selected_tickers)):\n",
    "ax.annotate(selected_tickers[i], (np.sqrt(np.diag(data['Adj Close'].pct_change().cov()))[i]*np.sqrt(252), expected_returns[i]))\n",
    "plt.xlabel('Volatility (annualized)')\n",
    "plt.ylabel('Expected Return')\n",
    "plt.title('Portfolio Optimization')\n",
    "plt.show()"
   ]
  },
  {
   "cell_type": "code",
   "execution_count": 4,
   "id": "fdd4aa5a",
   "metadata": {},
   "outputs": [
    {
     "data": {
      "text/plain": [
       "0           A\n",
       "1          AA\n",
       "2         AAC\n",
       "3         AAL\n",
       "4        AAMC\n",
       "        ...  \n",
       "5604     ZWRK\n",
       "5605    ZWRKU\n",
       "5606       ZY\n",
       "5607     ZYNE\n",
       "5608     ZYXI\n",
       "Name: Ticker Symbol, Length: 5609, dtype: object"
      ]
     },
     "execution_count": 4,
     "metadata": {},
     "output_type": "execute_result"
    }
   ],
   "source": [
    "import pandas as pd\n",
    "import os\n",
    "tickers = pd.read_excel(os.path.join(os.getcwd(),'Tickers.xlsx'))['Ticker Symbol']\n",
    "tickers"
   ]
  },
  {
   "cell_type": "code",
   "execution_count": null,
   "id": "83ad8437",
   "metadata": {},
   "outputs": [
    {
     "name": "stdout",
     "output_type": "stream",
     "text": [
      "Found existing installation: numpy 1.16.6\r\n",
      "Uninstalling numpy-1.16.6:\r\n",
      "  Would remove:\r\n",
      "    /Users/zaid/anaconda3/envs/Beststocke/bin/f2py\r\n",
      "    /Users/zaid/anaconda3/envs/Beststocke/bin/f2py3\r\n",
      "    /Users/zaid/anaconda3/envs/Beststocke/bin/f2py3.9\r\n",
      "    /Users/zaid/anaconda3/envs/Beststocke/lib/python3.9/site-packages/numpy\r\n",
      "    /Users/zaid/anaconda3/envs/Beststocke/lib/python3.9/site-packages/numpy-1.16.6-py3.9.egg-info\r\n",
      "Proceed (Y/n)? "
     ]
    }
   ],
   "source": [
    "!pip uninstall numpy\n",
    "!pip install numpy==1.17.1"
   ]
  },
  {
   "cell_type": "code",
   "execution_count": null,
   "id": "ecfcb53d",
   "metadata": {},
   "outputs": [],
   "source": []
  }
 ],
 "metadata": {
  "kernelspec": {
   "display_name": "Python 3 (ipykernel)",
   "language": "python",
   "name": "python3"
  },
  "language_info": {
   "codemirror_mode": {
    "name": "ipython",
    "version": 3
   },
   "file_extension": ".py",
   "mimetype": "text/x-python",
   "name": "python",
   "nbconvert_exporter": "python",
   "pygments_lexer": "ipython3",
   "version": "3.9.16"
  }
 },
 "nbformat": 4,
 "nbformat_minor": 5
}
